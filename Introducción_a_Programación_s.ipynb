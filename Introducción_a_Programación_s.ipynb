{
  "cells": [
    {
      "cell_type": "markdown",
      "id": "107f48ee-52a0-4c31-8616-62f0c6d08c44",
      "metadata": {
        "id": "107f48ee-52a0-4c31-8616-62f0c6d08c44"
      },
      "source": [
        "# 1.-Introducción a la Programación con Python"
      ]
    },
    {
      "cell_type": "markdown",
      "id": "b4b3f36d-d890-4bbf-9a7d-d3b41fac5f28",
      "metadata": {
        "id": "b4b3f36d-d890-4bbf-9a7d-d3b41fac5f28"
      },
      "source": [
        "## 1.2.- Operadores Aritméticos"
      ]
    },
    {
      "cell_type": "markdown",
      "id": "c4ef828e-4186-407b-ad79-ba97eed7c741",
      "metadata": {
        "id": "c4ef828e-4186-407b-ad79-ba97eed7c741"
      },
      "source": [
        "### 1.2.1.- Variables y asignaciones"
      ]
    },
    {
      "cell_type": "markdown",
      "id": "ea41ab63-e16c-49b9-83c6-d596c6d5bf1f",
      "metadata": {
        "id": "ea41ab63-e16c-49b9-83c6-d596c6d5bf1f"
      },
      "source": [
        "Calculadora con expresiones como sumas"
      ]
    },
    {
      "cell_type": "code",
      "execution_count": null,
      "id": "41ca1908-31b9-4400-bde9-859935737dbf",
      "metadata": {
        "colab": {
          "base_uri": "https://localhost:8080/"
        },
        "id": "41ca1908-31b9-4400-bde9-859935737dbf",
        "outputId": "4c5da090-6eb3-40c9-ec02-73c0b95628b6"
      },
      "outputs": [
        {
          "output_type": "execute_result",
          "data": {
            "text/plain": [
              "47"
            ]
          },
          "metadata": {},
          "execution_count": 1
        }
      ],
      "source": [
        "25+22"
      ]
    },
    {
      "cell_type": "markdown",
      "id": "67de4824-f60b-42ad-94c0-88ef30c200f7",
      "metadata": {
        "id": "67de4824-f60b-42ad-94c0-88ef30c200f7"
      },
      "source": [
        "Creemos una variable w que valga 39"
      ]
    },
    {
      "cell_type": "code",
      "execution_count": null,
      "id": "8bc4f8d0-21dc-49ab-9dcc-3f3cff6dcad1",
      "metadata": {
        "id": "8bc4f8d0-21dc-49ab-9dcc-3f3cff6dcad1"
      },
      "outputs": [],
      "source": [
        "w = 39"
      ]
    },
    {
      "cell_type": "code",
      "execution_count": null,
      "id": "7bbd9cf7-1155-4e34-a91a-aa24460eb51f",
      "metadata": {
        "colab": {
          "base_uri": "https://localhost:8080/"
        },
        "id": "7bbd9cf7-1155-4e34-a91a-aa24460eb51f",
        "outputId": "7f392513-d7db-4de0-b3f1-5ffe53974db7"
      },
      "outputs": [
        {
          "output_type": "execute_result",
          "data": {
            "text/plain": [
              "39"
            ]
          },
          "metadata": {},
          "execution_count": 3
        }
      ],
      "source": [
        "w"
      ]
    },
    {
      "cell_type": "markdown",
      "id": "9c91670c-5e61-498d-98b5-ffed9823c035",
      "metadata": {
        "id": "9c91670c-5e61-498d-98b5-ffed9823c035"
      },
      "source": [
        "Es útil realizar estas declaraciones, ya que las declaraciones permiten almacenar valores que pueden ser útiles posteriormente. Por ejemplo:"
      ]
    },
    {
      "cell_type": "code",
      "execution_count": null,
      "id": "f99306ff-a0fa-4337-b651-0153f28dd099",
      "metadata": {
        "id": "f99306ff-a0fa-4337-b651-0153f28dd099"
      },
      "outputs": [],
      "source": [
        "z = 22"
      ]
    },
    {
      "cell_type": "code",
      "execution_count": null,
      "id": "aea3bd86-29ed-4b4e-8a54-0d3c96ad348b",
      "metadata": {
        "colab": {
          "base_uri": "https://localhost:8080/"
        },
        "id": "aea3bd86-29ed-4b4e-8a54-0d3c96ad348b",
        "outputId": "d62324c0-54d6-4c3d-ac07-07d350fce377"
      },
      "outputs": [
        {
          "output_type": "execute_result",
          "data": {
            "text/plain": [
              "61"
            ]
          },
          "metadata": {},
          "execution_count": 6
        }
      ],
      "source": [
        "w + z"
      ]
    },
    {
      "cell_type": "markdown",
      "id": "c4545a41-a888-4f8f-abd8-2db07631a346",
      "metadata": {
        "id": "c4545a41-a888-4f8f-abd8-2db07631a346"
      },
      "source": [
        "Continuando con esta forma de declarar las variables, también podemos asignar"
      ]
    },
    {
      "cell_type": "code",
      "execution_count": null,
      "id": "cbf482f5-cbbd-4ea4-bc2c-99b6e62be741",
      "metadata": {
        "id": "cbf482f5-cbbd-4ea4-bc2c-99b6e62be741"
      },
      "outputs": [],
      "source": [
        "division = w/z"
      ]
    },
    {
      "cell_type": "code",
      "execution_count": null,
      "id": "9ba3b30a-b0e7-4312-9978-77743e51a615",
      "metadata": {
        "colab": {
          "base_uri": "https://localhost:8080/"
        },
        "id": "9ba3b30a-b0e7-4312-9978-77743e51a615",
        "outputId": "f8cb2792-5bc5-413f-ce1d-9ee2db7607cb"
      },
      "outputs": [
        {
          "output_type": "execute_result",
          "data": {
            "text/plain": [
              "1.7727272727272727"
            ]
          },
          "metadata": {},
          "execution_count": 8
        }
      ],
      "source": [
        "division"
      ]
    },
    {
      "cell_type": "markdown",
      "id": "d115b081-5d07-49e9-b258-92ff1171045d",
      "metadata": {
        "id": "d115b081-5d07-49e9-b258-92ff1171045d"
      },
      "source": [
        "Observa lo que ocurre si escribes"
      ]
    },
    {
      "cell_type": "code",
      "execution_count": null,
      "id": "9fb52bea-5cd2-4da1-a8bd-36271b55caa3",
      "metadata": {
        "colab": {
          "base_uri": "https://localhost:8080/"
        },
        "id": "9fb52bea-5cd2-4da1-a8bd-36271b55caa3",
        "outputId": "13ec9483-f371-49ab-85d4-037e5017c5cf"
      },
      "outputs": [
        {
          "output_type": "execute_result",
          "data": {
            "text/plain": [
              "1.7727272727272727"
            ]
          },
          "metadata": {},
          "execution_count": 10
        }
      ],
      "source": [
        "division"
      ]
    },
    {
      "cell_type": "markdown",
      "id": "10b311be-a87f-48fe-ac68-fd758a6531d5",
      "metadata": {
        "id": "10b311be-a87f-48fe-ac68-fd758a6531d5"
      },
      "source": [
        "¿De qué tipo es la variable división?. Teclea type(división)"
      ]
    },
    {
      "cell_type": "code",
      "execution_count": null,
      "id": "6f9311d2-bbe9-4fb5-8ed9-7391b69b344a",
      "metadata": {
        "colab": {
          "base_uri": "https://localhost:8080/"
        },
        "id": "6f9311d2-bbe9-4fb5-8ed9-7391b69b344a",
        "outputId": "aa16ee91-1b37-479e-9e5f-4d3deea216d4"
      },
      "outputs": [
        {
          "output_type": "execute_result",
          "data": {
            "text/plain": [
              "float"
            ]
          },
          "metadata": {},
          "execution_count": 13
        }
      ],
      "source": [
        "type(division)"
      ]
    },
    {
      "cell_type": "code",
      "execution_count": null,
      "id": "26650157-1f99-48e2-b063-2b1d546fe1e8",
      "metadata": {
        "colab": {
          "base_uri": "https://localhost:8080/"
        },
        "id": "26650157-1f99-48e2-b063-2b1d546fe1e8",
        "outputId": "7537cf9c-f573-4aa4-d9ac-1b73cd00d2ea"
      },
      "outputs": [
        {
          "output_type": "execute_result",
          "data": {
            "text/plain": [
              "bool"
            ]
          },
          "metadata": {},
          "execution_count": 15
        }
      ],
      "source": [
        "type(True)"
      ]
    },
    {
      "cell_type": "markdown",
      "id": "a8787aa5-1a17-4584-895a-af65cc8caccc",
      "metadata": {
        "id": "a8787aa5-1a17-4584-895a-af65cc8caccc"
      },
      "source": [
        " Python reconoce a la variable w como un entero."
      ]
    },
    {
      "cell_type": "code",
      "execution_count": null,
      "id": "afe037f0-de37-41e2-953d-d844e0a80fda",
      "metadata": {
        "colab": {
          "base_uri": "https://localhost:8080/"
        },
        "id": "afe037f0-de37-41e2-953d-d844e0a80fda",
        "outputId": "42cc9a7f-f2d8-461e-9a1a-4e1509b1afe8"
      },
      "outputs": [
        {
          "output_type": "execute_result",
          "data": {
            "text/plain": [
              "int"
            ]
          },
          "metadata": {},
          "execution_count": 14
        }
      ],
      "source": [
        "type(w)"
      ]
    },
    {
      "cell_type": "code",
      "execution_count": null,
      "id": "3c6d97c5-83ab-4e21-9ac7-19af7773bd28",
      "metadata": {
        "colab": {
          "base_uri": "https://localhost:8080/"
        },
        "id": "3c6d97c5-83ab-4e21-9ac7-19af7773bd28",
        "outputId": "16111cc7-2568-4426-93db-99b40eceb848"
      },
      "outputs": [
        {
          "output_type": "execute_result",
          "data": {
            "text/plain": [
              "str"
            ]
          },
          "metadata": {},
          "execution_count": 16
        }
      ],
      "source": [
        "type(\"Hola que tal\")"
      ]
    },
    {
      "cell_type": "markdown",
      "id": "005e7373-42db-4a0d-adfd-9bbce8142a24",
      "metadata": {
        "id": "005e7373-42db-4a0d-adfd-9bbce8142a24"
      },
      "source": [
        "#### Por tu cuenta\n",
        "\n",
        "Calcula la suma de 10.8, 12.2 y 0.2, guardala en una variable llamada b, y muestra la variable"
      ]
    },
    {
      "cell_type": "code",
      "execution_count": null,
      "id": "b311d94d-52f6-4118-a6aa-76bea95587ab",
      "metadata": {
        "colab": {
          "base_uri": "https://localhost:8080/"
        },
        "id": "b311d94d-52f6-4118-a6aa-76bea95587ab",
        "outputId": "9ace1bbc-0a2d-4fa6-baff-209b4d264cdf"
      },
      "outputs": [
        {
          "output_type": "execute_result",
          "data": {
            "text/plain": [
              "23.2"
            ]
          },
          "metadata": {},
          "execution_count": 1
        }
      ],
      "source": [
        "b = 10.8 + 12.2 + 0.2\n",
        "b"
      ]
    },
    {
      "cell_type": "markdown",
      "id": "9465c9ba-b34b-429a-8881-36d24df64a7e",
      "metadata": {
        "id": "9465c9ba-b34b-429a-8881-36d24df64a7e"
      },
      "source": [
        "### 2.2.2.- Aritmetica\n",
        "\n",
        "| Operador | Nombre | Descripción |\n",
        "|--------------|----------------|----------------- ---------------------------------------|\n",
        "| ``a + b`` | Adición | Suma de ``a`` y ``b`` |\n",
        "| ``a - b`` | Resta | Diferencia de ``a`` y ``b`` |\n",
        "| ``a * b`` | Multiplicación | Producto de ``a`` y ``b`` |\n",
        "| ``a/b`` | División verdadera | Cociente de ``a`` y ``b`` |\n",
        "| ``a // b`` | División de suelo | Cociente de ``a`` y ``b``, eliminando partes fraccionarias |\n",
        "| ``a % b`` | Módulo | Resto entero después de la división de ``a`` por ``b`` |\n",
        "| ``a ** b`` | Exponenciación | ``a`` elevado a la potencia de ``b`` |\n",
        "| ``-a`` | Negación | El negativo de ``a`` |\n",
        "\n",
        "<span style=\"display:none\"></span>\n"
      ]
    },
    {
      "cell_type": "markdown",
      "id": "7b42b218-4742-47d9-b736-e98261be0587",
      "metadata": {
        "id": "7b42b218-4742-47d9-b736-e98261be0587"
      },
      "source": [
        "##### Multiplicación\n",
        "\n",
        "Realiza un 7 * 4"
      ]
    },
    {
      "cell_type": "code",
      "execution_count": null,
      "id": "6b91ef2e-d2e0-4b02-8f26-0711925b0776",
      "metadata": {
        "colab": {
          "base_uri": "https://localhost:8080/"
        },
        "id": "6b91ef2e-d2e0-4b02-8f26-0711925b0776",
        "outputId": "5bcde4de-da7b-40db-b25f-dfdb51cd39c5"
      },
      "outputs": [
        {
          "output_type": "execute_result",
          "data": {
            "text/plain": [
              "28"
            ]
          },
          "metadata": {},
          "execution_count": 19
        }
      ],
      "source": [
        "7*4"
      ]
    },
    {
      "cell_type": "markdown",
      "id": "6d23d001-7a4c-4145-b914-2f82ed77037a",
      "metadata": {
        "id": "6d23d001-7a4c-4145-b914-2f82ed77037a"
      },
      "source": [
        "##### Exponenciación\n",
        "\n",
        "Realiza un 2 ** 4"
      ]
    },
    {
      "cell_type": "code",
      "execution_count": null,
      "id": "9099f0a2-8c8a-43bb-89f7-1777ad5ffcad",
      "metadata": {
        "colab": {
          "base_uri": "https://localhost:8080/"
        },
        "id": "9099f0a2-8c8a-43bb-89f7-1777ad5ffcad",
        "outputId": "b81b91ef-4803-42f6-b7bb-1e7f8e1a4e9f"
      },
      "outputs": [
        {
          "output_type": "execute_result",
          "data": {
            "text/plain": [
              "16"
            ]
          },
          "metadata": {},
          "execution_count": 21
        }
      ],
      "source": [
        "2**4"
      ]
    },
    {
      "cell_type": "markdown",
      "id": "7221d3fd-6edd-4646-960e-5234eb1224cb",
      "metadata": {
        "id": "7221d3fd-6edd-4646-960e-5234eb1224cb"
      },
      "source": [
        "##### División Verdadera\n",
        "\n",
        "Divide 8/5"
      ]
    },
    {
      "cell_type": "code",
      "execution_count": null,
      "id": "956eaff7-044d-4321-9117-9c79838fdfe9",
      "metadata": {
        "colab": {
          "base_uri": "https://localhost:8080/"
        },
        "id": "956eaff7-044d-4321-9117-9c79838fdfe9",
        "outputId": "42c7e482-0a39-42bd-d608-e23493ba7763"
      },
      "outputs": [
        {
          "output_type": "execute_result",
          "data": {
            "text/plain": [
              "1.6"
            ]
          },
          "metadata": {},
          "execution_count": 22
        }
      ],
      "source": [
        "8/5"
      ]
    },
    {
      "cell_type": "markdown",
      "id": "acd82688-1da7-4d4b-8770-a2c8cf1a9959",
      "metadata": {
        "id": "acd82688-1da7-4d4b-8770-a2c8cf1a9959"
      },
      "source": [
        "##### División de piso\n",
        "\n",
        "Divide 20//6 - verás como te da un rsultado entero"
      ]
    },
    {
      "cell_type": "code",
      "execution_count": null,
      "id": "5bdd55d8-2a08-49b5-80bd-98c741b5b3a1",
      "metadata": {
        "colab": {
          "base_uri": "https://localhost:8080/"
        },
        "id": "5bdd55d8-2a08-49b5-80bd-98c741b5b3a1",
        "outputId": "6695ece2-ec94-4cc1-dae0-2a6d7ecc2e1c"
      },
      "outputs": [
        {
          "output_type": "execute_result",
          "data": {
            "text/plain": [
              "3"
            ]
          },
          "metadata": {},
          "execution_count": 23
        }
      ],
      "source": [
        "20//6"
      ]
    },
    {
      "cell_type": "markdown",
      "id": "7c5a2f8a-d79d-40f6-a019-ac2ad4e176b8",
      "metadata": {
        "id": "7c5a2f8a-d79d-40f6-a019-ac2ad4e176b8"
      },
      "source": [
        "##### Restante\n",
        "\n",
        "Ahora obten el restante de dividir 26 / 8 usando el operador %"
      ]
    },
    {
      "cell_type": "code",
      "execution_count": null,
      "id": "06df6019-2880-42da-bc70-e8fe75b8085f",
      "metadata": {
        "colab": {
          "base_uri": "https://localhost:8080/"
        },
        "id": "06df6019-2880-42da-bc70-e8fe75b8085f",
        "outputId": "e95d8ab8-844d-4097-d768-e68f84b65e9f"
      },
      "outputs": [
        {
          "output_type": "execute_result",
          "data": {
            "text/plain": [
              "2"
            ]
          },
          "metadata": {},
          "execution_count": 24
        }
      ],
      "source": [
        "26%8\n",
        "\n",
        "# estos es porque 26/8  (8*3=24 -----> 26-24=2)"
      ]
    },
    {
      "cell_type": "markdown",
      "id": "7b682671-bc7b-4e34-8fe8-7b9034a43bc9",
      "metadata": {
        "id": "7b682671-bc7b-4e34-8fe8-7b9034a43bc9"
      },
      "source": [
        "##### División entre cero\n",
        "\n"
      ]
    },
    {
      "cell_type": "code",
      "execution_count": null,
      "id": "e74bf267-cecf-4e6c-99ff-8e40b2aac32a",
      "metadata": {
        "colab": {
          "base_uri": "https://localhost:8080/",
          "height": 167
        },
        "id": "e74bf267-cecf-4e6c-99ff-8e40b2aac32a",
        "outputId": "4afdf222-c60b-4bf3-a2d4-a6792aa4da3c"
      },
      "outputs": [
        {
          "output_type": "error",
          "ename": "ZeroDivisionError",
          "evalue": "ignored",
          "traceback": [
            "\u001b[0;31m---------------------------------------------------------------------------\u001b[0m",
            "\u001b[0;31mZeroDivisionError\u001b[0m                         Traceback (most recent call last)",
            "\u001b[0;32m<ipython-input-26-f83a26030bd4>\u001b[0m in \u001b[0;36m<module>\u001b[0;34m()\u001b[0m\n\u001b[0;32m----> 1\u001b[0;31m \u001b[0;36m20\u001b[0m\u001b[0;34m/\u001b[0m\u001b[0;36m0\u001b[0m\u001b[0;34m\u001b[0m\u001b[0;34m\u001b[0m\u001b[0m\n\u001b[0m",
            "\u001b[0;31mZeroDivisionError\u001b[0m: division by zero"
          ]
        }
      ],
      "source": [
        "20/0"
      ]
    },
    {
      "cell_type": "markdown",
      "id": "3259cdcb-13a8-40c6-99fa-bd6611dabc99",
      "metadata": {
        "id": "3259cdcb-13a8-40c6-99fa-bd6611dabc99"
      },
      "source": [
        "##### Agrupación con parentesis\n",
        "\n",
        "Checa que python respeta la jerarquia de operaciones"
      ]
    },
    {
      "cell_type": "code",
      "execution_count": null,
      "id": "15f252d5-a478-49d9-b98e-01630d77d227",
      "metadata": {
        "colab": {
          "base_uri": "https://localhost:8080/"
        },
        "id": "15f252d5-a478-49d9-b98e-01630d77d227",
        "outputId": "5029f237-b34f-4805-b090-c187fe691b19"
      },
      "outputs": [
        {
          "output_type": "execute_result",
          "data": {
            "text/plain": [
              "121"
            ]
          },
          "metadata": {},
          "execution_count": 27
        }
      ],
      "source": [
        "(8+3)**2"
      ]
    },
    {
      "cell_type": "markdown",
      "id": "f280f822-c9b1-4c44-91a3-c6a18ee83f2b",
      "metadata": {
        "id": "f280f822-c9b1-4c44-91a3-c6a18ee83f2b"
      },
      "source": [
        "#### Por tu cuenta\n",
        "\n",
        "Evalua la expresión 3*(4-5) con y sin parentesis. Son los paréntesis redundantes?"
      ]
    },
    {
      "cell_type": "code",
      "source": [
        "3*(4-5)"
      ],
      "metadata": {
        "colab": {
          "base_uri": "https://localhost:8080/"
        },
        "id": "nkzobNM6zlEz",
        "outputId": "e1b7b89a-fd44-49a1-893a-deed524d3668"
      },
      "id": "nkzobNM6zlEz",
      "execution_count": null,
      "outputs": [
        {
          "output_type": "execute_result",
          "data": {
            "text/plain": [
              "-3"
            ]
          },
          "metadata": {},
          "execution_count": 28
        }
      ]
    },
    {
      "cell_type": "code",
      "source": [
        "3*4-5"
      ],
      "metadata": {
        "colab": {
          "base_uri": "https://localhost:8080/"
        },
        "id": "PUizpbOB0lQq",
        "outputId": "66bed1a8-bfea-4175-8008-43d93ec9e2f1"
      },
      "id": "PUizpbOB0lQq",
      "execution_count": null,
      "outputs": [
        {
          "output_type": "execute_result",
          "data": {
            "text/plain": [
              "7"
            ]
          },
          "metadata": {},
          "execution_count": 29
        }
      ]
    },
    {
      "cell_type": "markdown",
      "id": "fcbe6ca4-24fd-4150-b7bb-f870814b662e",
      "metadata": {
        "id": "fcbe6ca4-24fd-4150-b7bb-f870814b662e"
      },
      "source": [
        "## 2.3.- Función print, arreglos con comillas simples y dobles comillas"
      ]
    },
    {
      "cell_type": "markdown",
      "id": "d5b0476e-8651-4ade-acbe-5a03a0866865",
      "metadata": {
        "id": "d5b0476e-8651-4ade-acbe-5a03a0866865"
      },
      "source": [
        "### 2.3.1.- La función Print"
      ]
    },
    {
      "cell_type": "markdown",
      "id": "18ca616b-3a2c-4184-8381-3a5e6a970e8d",
      "metadata": {
        "id": "18ca616b-3a2c-4184-8381-3a5e6a970e8d"
      },
      "source": [
        "ejecuta el siguiente snippet\n",
        "\n",
        "**print(“Hoy aprenderé a usar la función print”)**"
      ]
    },
    {
      "cell_type": "code",
      "execution_count": null,
      "id": "058c39e6-75ad-4a4a-b97c-44dc1d4bd4cc",
      "metadata": {
        "colab": {
          "base_uri": "https://localhost:8080/"
        },
        "id": "058c39e6-75ad-4a4a-b97c-44dc1d4bd4cc",
        "outputId": "ae8ccede-9316-4058-b61a-b731bb185291"
      },
      "outputs": [
        {
          "output_type": "stream",
          "name": "stdout",
          "text": [
            "Hoy aprenderé a usar la función print\n"
          ]
        }
      ],
      "source": [
        "print(\"Hoy aprenderé a usar la función print\")"
      ]
    },
    {
      "cell_type": "markdown",
      "id": "8269f4b5-ae18-416f-be14-a05d1da536e2",
      "metadata": {
        "id": "8269f4b5-ae18-416f-be14-a05d1da536e2"
      },
      "source": [
        "Ahora Ejecuta\n",
        "\n",
        "**Print('Hoy aprenderé a usar la función print')**"
      ]
    },
    {
      "cell_type": "code",
      "execution_count": null,
      "id": "8100353f-2679-469d-b979-46a710dac3a0",
      "metadata": {
        "colab": {
          "base_uri": "https://localhost:8080/"
        },
        "id": "8100353f-2679-469d-b979-46a710dac3a0",
        "outputId": "99360291-e807-4fc3-b6d6-bda211e4a6a3"
      },
      "outputs": [
        {
          "output_type": "stream",
          "name": "stdout",
          "text": [
            "Hoy aprenderé a usar la función print\n"
          ]
        }
      ],
      "source": [
        "print('Hoy aprenderé a usar la función print')"
      ]
    },
    {
      "cell_type": "markdown",
      "id": "63a86fc8-6aee-4501-8474-4b11c0cdd7e6",
      "metadata": {
        "id": "63a86fc8-6aee-4501-8474-4b11c0cdd7e6"
      },
      "source": [
        "Por ejemplo, para declarar el arreglo\n",
        "Hoy aprenderé a usar la función ‘print’"
      ]
    },
    {
      "cell_type": "markdown",
      "id": "36f2a965-9b25-4353-9af0-ae233e25fbe8",
      "metadata": {
        "id": "36f2a965-9b25-4353-9af0-ae233e25fbe8"
      },
      "source": [
        "**print(“Hoy aprenderé a usar la función ‘print’”)**"
      ]
    },
    {
      "cell_type": "code",
      "execution_count": null,
      "id": "45a00297-3508-4bf3-aa5b-dff48ff9fe2d",
      "metadata": {
        "colab": {
          "base_uri": "https://localhost:8080/"
        },
        "id": "45a00297-3508-4bf3-aa5b-dff48ff9fe2d",
        "outputId": "2c713cbc-978a-4f8d-ede0-020fddf04bd8"
      },
      "outputs": [
        {
          "output_type": "stream",
          "name": "stdout",
          "text": [
            "Hoy aprenderé a usar la función 'print'\n"
          ]
        }
      ],
      "source": [
        "print(\"Hoy aprenderé a usar la función 'print'\")"
      ]
    },
    {
      "cell_type": "markdown",
      "id": "bde0dc8c-4eaf-4745-99f3-28da569395a3",
      "metadata": {
        "id": "bde0dc8c-4eaf-4745-99f3-28da569395a3"
      },
      "source": [
        "### 2.3.1.- Triples comillas\n",
        "\n",
        "Esto se resuelve utilizando dobles comillas"
      ]
    },
    {
      "cell_type": "code",
      "execution_count": null,
      "id": "e0fdec45-8cb7-4be5-994c-87eef67685d9",
      "metadata": {
        "colab": {
          "base_uri": "https://localhost:8080/",
          "height": 132
        },
        "id": "e0fdec45-8cb7-4be5-994c-87eef67685d9",
        "outputId": "be85af6d-57ca-4ac5-9097-afc2c48b1cc0"
      },
      "outputs": [
        {
          "output_type": "error",
          "ename": "SyntaxError",
          "evalue": "ignored",
          "traceback": [
            "\u001b[0;36m  File \u001b[0;32m\"<ipython-input-34-70c6bc8ec57e>\"\u001b[0;36m, line \u001b[0;32m1\u001b[0m\n\u001b[0;31m    print('Hoy aprenderé a usar la función 'print'\")\u001b[0m\n\u001b[0m                                                ^\u001b[0m\n\u001b[0;31mSyntaxError\u001b[0m\u001b[0;31m:\u001b[0m invalid syntax\n"
          ]
        }
      ],
      "source": [
        "print('Hoy aprenderé a usar la función 'print'\")"
      ]
    },
    {
      "cell_type": "markdown",
      "id": "ea86c6b8-771a-4617-9fec-a93916e87a53",
      "metadata": {
        "id": "ea86c6b8-771a-4617-9fec-a93916e87a53"
      },
      "source": [
        "Esta diferencia será más obvia cuando trabajemos líneas de texto en el ambiente de Colab.\n",
        "Otras opciones para insertar texto el prompt de Anaconda son\n",
        "\n",
        "**print(‘Hoy aprenderé’,’a usar’, ‘la función print’)**\n",
        "\n",
        "**print(‘Hoy aprenderé\\n a usar\\n la función print’)**\n",
        "\n",
        "\n",
        "print(‘También aprenderé a dividir \\\n",
        "\n",
        "…: líneas de texto cuando las expresiones \\\n",
        "\n",
        "…: sean demasiado largas’)"
      ]
    },
    {
      "cell_type": "code",
      "execution_count": null,
      "id": "fe21f618-e1aa-450a-a732-ac880a71eaba",
      "metadata": {
        "colab": {
          "base_uri": "https://localhost:8080/"
        },
        "id": "fe21f618-e1aa-450a-a732-ac880a71eaba",
        "outputId": "97dd731b-1684-4be0-e134-f9d6cb66d0e7"
      },
      "outputs": [
        {
          "output_type": "stream",
          "name": "stdout",
          "text": [
            "Hoy aprenderé a usar la función print\n"
          ]
        }
      ],
      "source": [
        "print('Hoy aprenderé','a usar', 'la función print')"
      ]
    },
    {
      "cell_type": "code",
      "execution_count": null,
      "id": "c6db0446-e2b8-4222-8607-613a16ff8329",
      "metadata": {
        "colab": {
          "base_uri": "https://localhost:8080/"
        },
        "id": "c6db0446-e2b8-4222-8607-613a16ff8329",
        "outputId": "a8fbd37b-e7c1-4dca-a79f-8f02aa860233"
      },
      "outputs": [
        {
          "output_type": "stream",
          "name": "stdout",
          "text": [
            "Hoy aprenderé\n",
            " a usar\n",
            " la función print\n"
          ]
        }
      ],
      "source": [
        "print('Hoy aprenderé\\n a usar\\n la función print')"
      ]
    },
    {
      "cell_type": "code",
      "execution_count": null,
      "id": "e478be1c-2a17-4323-9e34-48b79dd5bcbc",
      "metadata": {
        "colab": {
          "base_uri": "https://localhost:8080/"
        },
        "id": "e478be1c-2a17-4323-9e34-48b79dd5bcbc",
        "outputId": "9257c7c3-012a-4810-8b17-859239a2df66"
      },
      "outputs": [
        {
          "output_type": "stream",
          "name": "stdout",
          "text": [
            "Tambien aprendere a dividirlineas de texto cuando las expresiones seandemasiado largas\n"
          ]
        }
      ],
      "source": [
        "print('Tambien aprendere a dividir\\\n",
        "lineas de texto cuando las expresiones sean\\\n",
        "demasiado largas')"
      ]
    },
    {
      "cell_type": "code",
      "execution_count": null,
      "id": "91c9ef9e-e337-41ec-a9c8-e098680573b9",
      "metadata": {
        "id": "91c9ef9e-e337-41ec-a9c8-e098680573b9"
      },
      "outputs": [],
      "source": []
    },
    {
      "cell_type": "markdown",
      "id": "da8ab0c5-ed69-491b-b0c3-b951eab1b304",
      "metadata": {
        "id": "da8ab0c5-ed69-491b-b0c3-b951eab1b304"
      },
      "source": [
        "Cuando requieras utilizar comillas dobles y sencillas en algún enunciado, por ejemplo\n",
        "\n",
        "Aprender ‘Python’, es realmente “sencillo”\n",
        "\n",
        "Es posible hacerlo utilizando triples comillas"
      ]
    },
    {
      "cell_type": "code",
      "execution_count": null,
      "id": "610e6493-a12e-4519-a32e-a79194139457",
      "metadata": {
        "colab": {
          "base_uri": "https://localhost:8080/"
        },
        "id": "610e6493-a12e-4519-a32e-a79194139457",
        "outputId": "8a864711-be2e-4a0b-9cc3-62898089239d"
      },
      "outputs": [
        {
          "output_type": "stream",
          "name": "stdout",
          "text": [
            "Aprender ‘Python’, es realmente “sencillo” \n"
          ]
        }
      ],
      "source": [
        "print(\"\"\"Aprender ‘Python’, es realmente “sencillo” \"\"\")"
      ]
    },
    {
      "cell_type": "code",
      "execution_count": null,
      "id": "00c20559-ed84-49a3-a6d7-f9133036c938",
      "metadata": {
        "id": "00c20559-ed84-49a3-a6d7-f9133036c938"
      },
      "outputs": [],
      "source": []
    },
    {
      "cell_type": "markdown",
      "id": "13741755-cfd3-4ced-bd60-8722bc73c0d2",
      "metadata": {
        "id": "13741755-cfd3-4ced-bd60-8722bc73c0d2"
      },
      "source": [
        "Con Python, puedes asignar a una variable un arreglo de caracteres\n",
        "\n",
        "**arreglo1=‘Hoy aprenderé a usar la función print’**"
      ]
    },
    {
      "cell_type": "code",
      "execution_count": null,
      "id": "a825385d-73b8-4468-8bd3-594a5d7d6abe",
      "metadata": {
        "id": "a825385d-73b8-4468-8bd3-594a5d7d6abe"
      },
      "outputs": [],
      "source": [
        "arreglo1 = 'Hoy aprendere a usar la funcion print'"
      ]
    },
    {
      "cell_type": "code",
      "execution_count": null,
      "id": "c4bd2820-8dc7-4cdc-9cec-4b0f2040c59d",
      "metadata": {
        "colab": {
          "base_uri": "https://localhost:8080/",
          "height": 35
        },
        "id": "c4bd2820-8dc7-4cdc-9cec-4b0f2040c59d",
        "outputId": "239469f5-d884-4605-d7bc-b8253dda79db"
      },
      "outputs": [
        {
          "output_type": "execute_result",
          "data": {
            "text/plain": [
              "'Hoy aprendere a usar la funcion print'"
            ],
            "application/vnd.google.colaboratory.intrinsic+json": {
              "type": "string"
            }
          },
          "metadata": {},
          "execution_count": 42
        }
      ],
      "source": [
        "arreglo1"
      ]
    },
    {
      "cell_type": "markdown",
      "source": [
        "#### Por tu cuenta\n"
      ],
      "metadata": {
        "id": "5piK63Eb3lYi"
      },
      "id": "5piK63Eb3lYi"
    },
    {
      "cell_type": "markdown",
      "id": "3b14599d-02fb-4c28-8dfd-b27b01ee8e28",
      "metadata": {
        "id": "3b14599d-02fb-4c28-8dfd-b27b01ee8e28"
      },
      "source": [
        "Con estas herramientas, ya puedes mostrar los resultados de los cálculos en una forma más amigable\n",
        "\n",
        "\n",
        "Arma un programa que divida dos variables y de por resultado lo siguiente:\"Primer numero elevado a Segundo numero es _______\""
      ]
    },
    {
      "cell_type": "code",
      "execution_count": null,
      "id": "6e2e6bd5-ccdc-4dad-9a3b-a98149839106",
      "metadata": {
        "id": "6e2e6bd5-ccdc-4dad-9a3b-a98149839106"
      },
      "outputs": [],
      "source": [
        "w = 22\n",
        "z = 11\n",
        "y = w ** z"
      ]
    },
    {
      "cell_type": "code",
      "execution_count": null,
      "id": "2a939657-8034-42dd-ab09-97046e3fcc19",
      "metadata": {
        "colab": {
          "base_uri": "https://localhost:8080/"
        },
        "id": "2a939657-8034-42dd-ab09-97046e3fcc19",
        "outputId": "dd2e2f24-9c94-4ac7-8bba-355388962d79"
      },
      "outputs": [
        {
          "output_type": "stream",
          "name": "stdout",
          "text": [
            "22 elevado a la 11 da por resultado 584318301411328\n"
          ]
        }
      ],
      "source": [
        "print(w,\"elevado a la\",z,\"da por resultado\",y)"
      ]
    },
    {
      "cell_type": "markdown",
      "id": "b4585070-9949-427a-84f5-ccf0a3a7f9a1",
      "metadata": {
        "id": "b4585070-9949-427a-84f5-ccf0a3a7f9a1"
      },
      "source": [
        "### 2.3.1.- Obtener input del usuario\n",
        "\n",
        "Input que solicita al usuario la información específica que debe ingresar al programa\n",
        "\n",
        "**nombre=input(‘¿Cuál es tu nombre?’)**"
      ]
    },
    {
      "cell_type": "code",
      "execution_count": null,
      "id": "371649c1-a963-41d4-8025-670791d36f73",
      "metadata": {
        "colab": {
          "base_uri": "https://localhost:8080/"
        },
        "id": "371649c1-a963-41d4-8025-670791d36f73",
        "outputId": "389211f8-4caf-46e0-ae97-13413b837578"
      },
      "outputs": [
        {
          "name": "stdout",
          "output_type": "stream",
          "text": [
            "¿Cual es tu nombre?Juan Carlos\n"
          ]
        }
      ],
      "source": [
        "nombre = input('¿Cual es tu nombre?')"
      ]
    },
    {
      "cell_type": "code",
      "execution_count": null,
      "id": "cc70c163-f2cd-46e3-b49d-4dbe789155be",
      "metadata": {
        "colab": {
          "base_uri": "https://localhost:8080/",
          "height": 35
        },
        "id": "cc70c163-f2cd-46e3-b49d-4dbe789155be",
        "outputId": "73543f85-ef42-4cb0-ab2d-4626aada1f02"
      },
      "outputs": [
        {
          "output_type": "execute_result",
          "data": {
            "text/plain": [
              "'Juan Carlos'"
            ],
            "application/vnd.google.colaboratory.intrinsic+json": {
              "type": "string"
            }
          },
          "metadata": {},
          "execution_count": 46
        }
      ],
      "source": [
        "nombre"
      ]
    },
    {
      "cell_type": "markdown",
      "id": "a853d83c-f42c-4ed3-83eb-2f76d179f626",
      "metadata": {
        "id": "a853d83c-f42c-4ed3-83eb-2f76d179f626"
      },
      "source": [
        "Posteriormente puedes llamar a la variable nombre"
      ]
    },
    {
      "cell_type": "markdown",
      "id": "f4591abb-8139-466e-a48b-cda83af1bd14",
      "metadata": {
        "id": "f4591abb-8139-466e-a48b-cda83af1bd14"
      },
      "source": [
        "Por default, Python guarda las entradas que recibe del comando input como un arreglo. Checa el type en cuestión"
      ]
    },
    {
      "cell_type": "code",
      "execution_count": null,
      "id": "cd0ea52b-96b1-4fcd-8be9-322e95a877aa",
      "metadata": {
        "colab": {
          "base_uri": "https://localhost:8080/"
        },
        "id": "cd0ea52b-96b1-4fcd-8be9-322e95a877aa",
        "outputId": "8ea918bd-dd52-4266-f904-4ae604dfaa3e"
      },
      "outputs": [
        {
          "output_type": "execute_result",
          "data": {
            "text/plain": [
              "str"
            ]
          },
          "metadata": {},
          "execution_count": 47
        }
      ],
      "source": [
        "type(nombre)"
      ]
    },
    {
      "cell_type": "code",
      "execution_count": null,
      "id": "ea6ada1e-490b-497a-927a-f338f9b424c9",
      "metadata": {
        "colab": {
          "base_uri": "https://localhost:8080/"
        },
        "id": "ea6ada1e-490b-497a-927a-f338f9b424c9",
        "outputId": "0ae89754-ab6d-4d5f-e6dd-c7768040c789"
      },
      "outputs": [
        {
          "name": "stdout",
          "output_type": "stream",
          "text": [
            "numero12\n"
          ]
        }
      ],
      "source": [
        "y = input(\"numero1 \")"
      ]
    },
    {
      "cell_type": "code",
      "execution_count": null,
      "id": "2061bcfa-a08c-464d-a777-65cc0e455151",
      "metadata": {
        "colab": {
          "base_uri": "https://localhost:8080/"
        },
        "id": "2061bcfa-a08c-464d-a777-65cc0e455151",
        "outputId": "dd560373-f9d6-48da-b77f-c04ff691aaea"
      },
      "outputs": [
        {
          "name": "stdout",
          "output_type": "stream",
          "text": [
            "numero225\n"
          ]
        }
      ],
      "source": [
        "x = input(\"numero2 \")"
      ]
    },
    {
      "cell_type": "markdown",
      "id": "5a50edd7-4634-4c10-a0f9-e2a3fb07cd84",
      "metadata": {
        "id": "5a50edd7-4634-4c10-a0f9-e2a3fb07cd84"
      },
      "source": [
        "Arma un programa que te pida 2 números y los sume"
      ]
    },
    {
      "cell_type": "code",
      "execution_count": null,
      "id": "74947eed-8b26-4a2a-9c0e-567bd73988b7",
      "metadata": {
        "colab": {
          "base_uri": "https://localhost:8080/",
          "height": 35
        },
        "id": "74947eed-8b26-4a2a-9c0e-567bd73988b7",
        "outputId": "8db52205-e4fc-4eef-9620-d9d9fadf364e"
      },
      "outputs": [
        {
          "output_type": "execute_result",
          "data": {
            "text/plain": [
              "'252'"
            ],
            "application/vnd.google.colaboratory.intrinsic+json": {
              "type": "string"
            }
          },
          "metadata": {},
          "execution_count": 51
        }
      ],
      "source": [
        "x + y"
      ]
    },
    {
      "cell_type": "markdown",
      "id": "69fe69ee-445e-424c-bcd1-8af19b75ef4e",
      "metadata": {
        "id": "69fe69ee-445e-424c-bcd1-8af19b75ef4e"
      },
      "source": [
        "No se pudo, para que python pueda hay que usar **int()**"
      ]
    },
    {
      "cell_type": "code",
      "execution_count": null,
      "id": "8dc93858-923a-41b8-b179-6025fd33878f",
      "metadata": {
        "colab": {
          "base_uri": "https://localhost:8080/"
        },
        "id": "8dc93858-923a-41b8-b179-6025fd33878f",
        "outputId": "2c740a14-a6a7-49ae-8e44-b8a16fa08d95"
      },
      "outputs": [
        {
          "output_type": "execute_result",
          "data": {
            "text/plain": [
              "27"
            ]
          },
          "metadata": {},
          "execution_count": 52
        }
      ],
      "source": [
        "int(x) + int(y)"
      ]
    },
    {
      "cell_type": "markdown",
      "id": "715564fc-75c1-4dd4-b115-89e1763246a4",
      "metadata": {
        "id": "715564fc-75c1-4dd4-b115-89e1763246a4"
      },
      "source": [
        "#### Por tu cuenta\n",
        "\n",
        "Usa float() para convertir \"6.2\" (una cadena) a un valor flotante"
      ]
    },
    {
      "cell_type": "code",
      "execution_count": null,
      "id": "62e04f9b-7f4f-4a24-a17b-3a9210c6a8ce",
      "metadata": {
        "id": "62e04f9b-7f4f-4a24-a17b-3a9210c6a8ce"
      },
      "outputs": [],
      "source": [
        "a = \"6.2\""
      ]
    },
    {
      "cell_type": "code",
      "execution_count": null,
      "id": "b747f326-73e0-40eb-9549-696ef4935c5e",
      "metadata": {
        "colab": {
          "base_uri": "https://localhost:8080/"
        },
        "id": "b747f326-73e0-40eb-9549-696ef4935c5e",
        "outputId": "888a1788-db98-442c-f24b-7d4fd7700250"
      },
      "outputs": [
        {
          "output_type": "execute_result",
          "data": {
            "text/plain": [
              "6.2"
            ]
          },
          "metadata": {},
          "execution_count": 54
        }
      ],
      "source": [
        "float(a)"
      ]
    },
    {
      "cell_type": "code",
      "execution_count": null,
      "id": "f01afb25-e78e-478a-b4f9-93de110705bf",
      "metadata": {
        "colab": {
          "base_uri": "https://localhost:8080/"
        },
        "id": "f01afb25-e78e-478a-b4f9-93de110705bf",
        "outputId": "f4ee36f5-e411-405f-bba2-790f2dc8f31f"
      },
      "outputs": [
        {
          "output_type": "execute_result",
          "data": {
            "text/plain": [
              "str"
            ]
          },
          "metadata": {},
          "execution_count": 55
        }
      ],
      "source": [
        "type(a)"
      ]
    },
    {
      "cell_type": "markdown",
      "id": "ff47d95b-02aa-4c5a-a539-df106c393c09",
      "metadata": {
        "id": "ff47d95b-02aa-4c5a-a539-df106c393c09"
      },
      "source": [
        "---"
      ]
    },
    {
      "cell_type": "markdown",
      "id": "58b2b137-def5-4acb-ae48-f07f3783d3de",
      "metadata": {
        "id": "58b2b137-def5-4acb-ae48-f07f3783d3de"
      },
      "source": [
        "---"
      ]
    }
  ],
  "metadata": {
    "kernelspec": {
      "display_name": "Python 3",
      "language": "python",
      "name": "python3"
    },
    "language_info": {
      "codemirror_mode": {
        "name": "ipython",
        "version": 3
      },
      "file_extension": ".py",
      "mimetype": "text/x-python",
      "name": "python",
      "nbconvert_exporter": "python",
      "pygments_lexer": "ipython3",
      "version": "3.8.8"
    },
    "colab": {
      "provenance": []
    }
  },
  "nbformat": 4,
  "nbformat_minor": 5
}